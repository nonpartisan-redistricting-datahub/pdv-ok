{
 "cells": [
  {
   "cell_type": "code",
   "execution_count": 1,
   "metadata": {},
   "outputs": [],
   "source": [
    "import pandas as pd\n",
    "import geopandas as gp\n",
    "import numpy as np \n",
    "import os\n",
    "import fiona\n",
    "from statistics import mean, median\n",
    "import string\n",
    "import sys"
   ]
  },
  {
   "cell_type": "markdown",
   "metadata": {},
   "source": [
    "# Precinct Shapefile"
   ]
  },
  {
   "cell_type": "markdown",
   "metadata": {},
   "source": [
    "## VEST's Documentation File"
   ]
  },
  {
   "cell_type": "markdown",
   "metadata": {},
   "source": [
    "## Election Results\n",
    "\n",
    "Election results are from Oklahoma State Election Board (https://results.okelections.us/OKER/?elecDate=20201103).\n",
    "\n",
    "## Shape Files\n",
    "Precinct shapefile from Oklahoma GIS Data Warehouse (https://csagis-uok.opendata.arcgis.com/).\n",
    "\n",
    "RDH note: shapefile for GIS data warehouse here: https://csagis-uok.opendata.arcgis.com/datasets/c83b09af406d48f7bbca30942fe186a8_0/explore?location=35.317799%2C-98.716567%2C8.77\n",
    "\n",
    "## Processing\n",
    "Early votes were reported countywide for Oklahoma County and Tulsa County. These were distributed by candidate to precincts based on their share of the precinct-level reported vote.\n",
    "\n",
    "## Races\n",
    "\n",
    "- G20PRERTRU - Donald J. Trump (Republican Party) \n",
    "- G20PREDBID - Joseph R. Biden (Democratic Party) \n",
    "- G20PRELJOR - Jo Jorgensen (Libertarian Party)\n",
    "- G20PREIWES - Kanye West (Independent)\n",
    "- G20PREISIM - Jade Simmons (Independent)\n",
    "- G20PREIPIE - Brock Pierce (Independent)\n",
    "- G20USSRINH - Jim Inhofe (Republican Party)\n",
    "- G20USSDBRO - Abby Broyles (Democratic Party)\n",
    "- G20USSLMUR - Robert Murphy (Libertarian Party)\n",
    "- G20USSIFAR - Joan Farr (Independent)\n",
    "- G20USSINES - A.D. Nesbit (Independent)\n",
    "- G20COCRHIE - Todd Hiett (Republican Party)\n",
    "- G20COCLHAG - Todd Hagopian (Libertarian Party)"
   ]
  },
  {
   "cell_type": "markdown",
   "metadata": {},
   "source": [
    "## Load in VEST's Final File"
   ]
  },
  {
   "cell_type": "code",
   "execution_count": 4,
   "metadata": {},
   "outputs": [],
   "source": [
    "vest_shp = gp.read_file(\"./raw-from-source/VEST/ok_2020/ok_2020.shp\")"
   ]
  },
  {
   "cell_type": "code",
   "execution_count": null,
   "metadata": {},
   "outputs": [],
   "source": [
    "vest_shp.shape"
   ]
  },
  {
   "cell_type": "code",
   "execution_count": null,
   "metadata": {},
   "outputs": [],
   "source": [
    "vest_shp.head()\n"
   ]
  },
  {
   "cell_type": "code",
   "execution_count": null,
   "metadata": {},
   "outputs": [],
   "source": [
    "vest_shp.boundary.plot()"
   ]
  },
  {
   "cell_type": "code",
   "execution_count": null,
   "metadata": {},
   "outputs": [],
   "source": [
    "vest_shp.plot(column='COUNTYFP', figsize=(20,20))\n",
    "#missing two counties"
   ]
  },
  {
   "cell_type": "code",
   "execution_count": null,
   "metadata": {},
   "outputs": [],
   "source": [
    "vest_shp.plot(column='COUNTY_NAM', figsize=(20,20))"
   ]
  },
  {
   "cell_type": "code",
   "execution_count": null,
   "metadata": {},
   "outputs": [],
   "source": [
    "vest_shp.columns"
   ]
  },
  {
   "cell_type": "markdown",
   "metadata": {},
   "source": [
    "## Load the SOS Election Results File"
   ]
  },
  {
   "cell_type": "code",
   "execution_count": null,
   "metadata": {},
   "outputs": [],
   "source": [
    "ok_20 = pd.read_csv(\"raw_from_source/precinct_results/20201103_PrecinctResults.csv\", index_col=False)"
   ]
  },
  {
   "cell_type": "code",
   "execution_count": null,
   "metadata": {},
   "outputs": [],
   "source": [
    "ok_20.head()"
   ]
  },
  {
   "cell_type": "code",
   "execution_count": null,
   "metadata": {},
   "outputs": [],
   "source": [
    "ok_20.shape"
   ]
  },
  {
   "cell_type": "markdown",
   "metadata": {},
   "source": [
    "## Clean Up the Elections Results"
   ]
  },
  {
   "cell_type": "code",
   "execution_count": null,
   "metadata": {},
   "outputs": [],
   "source": [
    "#filter rows with presidential, Senatorial, and Corporate Commissioner results\n",
    "filtered_20 = ok_20.loc[(ok_20['race_description']== 'FOR ELECTORS FOR PRESIDENT AND VICE PRESIDENT') | (ok_20['race_description']== 'FOR UNITED STATES SENATOR') | (ok_20['race_description']== 'FOR CORPORATION COMMISSIONER')]\n",
    "filtered_20.reset_index(drop=True, inplace = True)\n",
    "#filtered_20.to_csv('filtered.csv')\n",
    "ok_unq = ok_20['race_description'].value_counts()\n"
   ]
  },
  {
   "cell_type": "code",
   "execution_count": null,
   "metadata": {},
   "outputs": [],
   "source": [
    "#dropping info\n",
    "filtered_df = filtered_20.drop(['cand_absmail_votes','cand_early_votes','cand_elecday_votes','tot_race_prec','race_prec_reporting','race_county_owner','elec_date','entity_description','race_party',], axis=1)\n",
    "\n"
   ]
  },
  {
   "cell_type": "code",
   "execution_count": null,
   "metadata": {},
   "outputs": [],
   "source": [
    "#pivoting based on cand_name and precinct vote totals\n",
    "pivot_df = pd.pivot_table(filtered_df, index = 'precinct', columns = 'cand_name', values=\"cand_tot_votes\")\n",
    "\n",
    "#dropping and renaming columns to match VEST\n",
    "pivot_df = pivot_df.rename(columns={'A. D. NESBIT':'G20USSINES','ABBY BROYLES':'G20USSDBRO','BROCK PIERCE | KARLA BALLARD':'G20PREIPIE','DONALD J. TRUMP | MICHAEL R. PENCE':'G20PRERTRU','JADE SIMMONS | CLAUDELIAH J. ROZE':'G20PREISIM','JIM INHOFE':'G20USSRINH','JO JORGENSEN | JEREMY SPIKE COHEN':'G20PRELJOR','JOAN FARR':'G20USSIFAR','JOSEPH R. BIDEN | KAMALA D. HARRIS':'G20PREDBID','KANYE WEST | MICHELLE TIDBALL':'G20PREIWES','ROBERT MURPHY':'G20USSLMUR','TODD HAGOPIAN':'G20COCLHAG','TODD HIETT':'G20COCRHIE'})\n",
    "pivot_df = pivot_df[['G20PRERTRU','G20PREDBID','G20PRELJOR','G20PREIWES','G20PREISIM','G20PREIPIE','G20USSRINH','G20USSDBRO','G20USSLMUR','G20USSIFAR','G20USSINES','G20COCRHIE','G20COCLHAG']]\n",
    "pivot_df.reset_index(inplace=True)\n",
    "\n"
   ]
  },
  {
   "cell_type": "markdown",
   "metadata": {},
   "source": [
    "## Adding FIPS Number\n",
    "\n",
    "Election results had FIPS joined to the 'precinct' column with first two digits being the county FIPS number. The election results are numbered 1,2,3.... etc. National County Fips are every odd number and RDH updated that number from the elections results. Additionally we added leading zeroes to STR and matched it to national FIPS database."
   ]
  },
  {
   "cell_type": "code",
   "execution_count": null,
   "metadata": {},
   "outputs": [],
   "source": [
    "\n",
    "#uploading national FIPS codes to apply back to file\n",
    "FIPS = pd.read_csv('./raw_from_source/FIPS/US_FIPS_Codes.csv')\n",
    "FIPS = FIPS[FIPS['State'] == 'Oklahoma']\n",
    "FIPS1 = FIPS.drop(['State','FIPS State'],axis=1)\n",
    "\n",
    "#adding leading zeroes to FIPS data\n",
    "FIPS1['FIPS County'] = FIPS1['FIPS County'].apply(lambda x:'{0:0>3}'.format(x))\n",
    "FIPS1.reset_index(inplace=True)\n",
    "FIPS1 = FIPS1.drop(['index'],axis=1)\n",
    "#print(FIPS1)\n",
    "# changing FIPS county type to str taking first two characters, selecting only the first 162 rows which need to have zeroes removed\n",
    "df_1 = pivot_df['precinct'].astype(str).str[:2]\n",
    "df_3 = df_1.iloc[:163]\n",
    "\n",
    "#replace all trailing zeroes with blank and create new dataframe with FIPS codes\n",
    "df_2 = []\n",
    "for string in df_3:\n",
    "    df_3 = string.replace(\"0\", \"\")\n",
    "    df_2.append(df_3)\n",
    "\n",
    "# rejoining dataframe to itself\n",
    "df = pd.DataFrame(df_2)\n",
    "df_append = df_1.iloc[163:]\n",
    "#print(df_append)\n",
    "dataframes = [df, df_append]\n",
    "df = pd.concat(dataframes)\n",
    "# Rename first column, convert county code to national FIPS #, add leading zeroes\n",
    "df.rename( columns={0 :'FIPS County'}, inplace=True )\n",
    "df.loc[(df['FIPS County']=='81') ,\"FIPS County\"] = '8'\n",
    "df['FIPS County'] = df.astype(int)*2-1\n",
    "df['FIPS County'].astype(str).apply(lambda x:'{0:0>3}'.format(x))\n",
    "pivot_df['FIPS County'] = df['FIPS County'].astype(str).apply(lambda x:'{0:0>3}'.format(x))\n",
    "#print(pivot_df)\n",
    "pivot_df['FIPS County'] = df['FIPS County']"
   ]
  },
  {
   "cell_type": "code",
   "execution_count": null,
   "metadata": {},
   "outputs": [],
   "source": [
    "#setting empty COUNTYFP's to their national FPS manually\n",
    "vest_shp.loc[(vest_shp['COUNTYFP'].isna()) & (vest_shp['COUNTY_NAM']=='Tulsa'),\"COUNTYFP\"] = 143\n",
    "vest_shp.loc[(vest_shp['COUNTYFP'].isna()) & (vest_shp['COUNTY_NAM']=='Pushmataha'),\"COUNTYFP\"] = 127"
   ]
  },
  {
   "cell_type": "code",
   "execution_count": null,
   "metadata": {},
   "outputs": [],
   "source": [
    "#add leading zeroes to county column \n",
    "pivot_df['FIPS County'] = pivot_df['FIPS County'].astype(str).apply(lambda x:'{0:0>3}'.format(x))\n"
   ]
  },
  {
   "cell_type": "markdown",
   "metadata": {},
   "source": [
    "## Validate Elections Results"
   ]
  },
  {
   "cell_type": "code",
   "execution_count": null,
   "metadata": {},
   "outputs": [],
   "source": [
    "#statewide vote total check\n",
    "def statewide_totals_check(partner_df,source_df,column_list):\n",
    "    print(\"***Statewide Totals Check***\")\n",
    "    for race in column_list:\n",
    "        if (sum(partner_df[race])- source_df[race].sum() != 0):\n",
    "            print(race+\" has a difference of \"+str(sum(partner_df[race])-source_df[race].sum())+\" votes\")\n",
    "            print(\"\\tVEST: \"+str(sum(partner_df[race]))+\" votes\")\n",
    "            print(\"\\tSOURCES: \"+str(source_df[race].sum())+\" votes\")\n",
    "        else:\n",
    "            print(race + \" is equal\", \"\\tVEST / RDH: \" + str(sum(partner_df[race])))"
   ]
  },
  {
   "cell_type": "code",
   "execution_count": null,
   "metadata": {},
   "outputs": [],
   "source": [
    "column_list = ['G20PRERTRU','G20PREDBID','G20PRELJOR','G20PREIWES','G20PREISIM','G20PREIPIE','G20USSRINH','G20USSDBRO','G20USSLMUR','G20USSIFAR','G20USSINES','G20COCRHIE','G20COCLHAG']\n",
    "statewide_totals_check(vest_shp,pivot_df,column_list)"
   ]
  },
  {
   "cell_type": "code",
   "execution_count": null,
   "metadata": {},
   "outputs": [],
   "source": [
    "#Checks county level results\n",
    "def county_totals_check(partner_df,source_df,column_list,county_col,full_print=False):\n",
    "    print(\"***Countywide Totals Check***\")\n",
    "    print(\"\")\n",
    "    diff_counties=[]\n",
    "    for race in column_list:\n",
    "        diff = partner_df.groupby([county_col]).sum()[race]-source_df.groupby([county_col]).sum()[race]\n",
    "        for val in diff[diff != 0].index.values.tolist():\n",
    "            if val not in diff_counties:\n",
    "                diff_counties.append(val)\n",
    "        if len(diff[diff != 0]!=0):   \n",
    "            print(race + \" contains differences in these counties:\")\n",
    "            for val in diff[diff != 0].index.values.tolist():\n",
    "                county_differences = diff[diff != 0]\n",
    "                print(\"\\t\"+val+\" has a difference of \"+str(county_differences[val])+\" votes\")\n",
    "                print(\"\\t\\tVEST: \"+str(partner_df.groupby([county_col]).sum().loc[val,race])+\" votes\")\n",
    "                print(\"\\t\\tSOURCES: \"+str(source_df.groupby([county_col]).sum().loc[val,race])+\" votes\")\n",
    "            if (full_print):\n",
    "                for val in diff[diff == 0].index.values.tolist():\n",
    "                    county_similarities = diff[diff == 0]\n",
    "                    print(\"\\t\"+val + \": \"+ str(partner_df.groupby([county_col]).sum().loc[val,race])+\" votes\")\n",
    "        else:\n",
    "            print(race + \" is equal across all counties\")\n",
    "            if (full_print):\n",
    "                for val in diff[diff == 0].index.values.tolist():\n",
    "                    county_similarities = diff[diff == 0]\n",
    "                    print(\"\\t\"+val + \": \"+ str(partner_df.groupby([county_col]).sum().loc[val,race])+\" votes\")"
   ]
  },
  {
   "cell_type": "code",
   "execution_count": null,
   "metadata": {},
   "outputs": [],
   "source": [
    "#county_col = name of counties needed to compare\n",
    "vest_shp = vest_shp.dropna()\n",
    "vest_shp['FIPS County'] = vest_shp['COUNTYFP'].astype(str)\n",
    "county_totals_check(vest_shp, pivot_df,column_list, \"FIPS County\")"
   ]
  },
  {
   "cell_type": "code",
   "execution_count": null,
   "metadata": {},
   "outputs": [],
   "source": [
    "#Allocate Absentee Precincts\n",
    "def allocate_absentee(df_receiving_votes,df_allocating,column_list,col_allocating):\n",
    "    original_cols = list(df_receiving_votes.columns)\n",
    "    \n",
    "    #Add in the \"Total Votes column\"\n",
    "    df_receiving_votes.loc[:,\"Total_Votes\"]=0\n",
    "    for race in column_list:\n",
    "        df_receiving_votes.loc[:,\"Total_Votes\"]+=df_receiving_votes.loc[:,race]\n",
    "    \n",
    "    #Create the needed dataframes\n",
    "    precinct_specific_totals = pd.DataFrame(df_receiving_votes.groupby([col_allocating]).sum())\n",
    "    precinct_specific_totals.reset_index(drop=False,inplace=True)\n",
    "    to_dole_out_totals = pd.DataFrame(df_allocating.groupby([col_allocating]).sum())\n",
    "    to_dole_out_totals.reset_index(drop=False,inplace=True)\n",
    "    \n",
    "    #Print out any instances where the allocation, as written, won't work\n",
    "    special_allocation_needed = []\n",
    "    for index, row in precinct_specific_totals.iterrows():\n",
    "        for race in column_list:\n",
    "            if (row[race]==0):\n",
    "                race_district = row[col_allocating]\n",
    "                if race_district in to_dole_out_totals[col_allocating].unique():\n",
    "                    to_allocate = int(to_dole_out_totals.loc[to_dole_out_totals[col_allocating]==race_district][race])\n",
    "                    if (to_allocate != 0):\n",
    "                        special_allocation_needed.append([race_district,race])\n",
    "    \n",
    "    #Create some new columns for each of these races to deal with the allocation\n",
    "    for race in column_list:\n",
    "        add_var = race+\"_add\"\n",
    "        rem_var = race+\"_rem\"\n",
    "        floor_var = race+\"_floor\"\n",
    "        df_receiving_votes.loc[:,add_var]=0.0\n",
    "        df_receiving_votes.loc[:,rem_var]=0.0\n",
    "        df_receiving_votes.loc[:,floor_var]=0.0\n",
    "\n",
    "    #Iterate over the rows\n",
    "    #Note this function iterates over the dataframe two times so the rounded vote totals match the totals to allocate\n",
    "    for index, row in df_receiving_votes.iterrows():\n",
    "        if row[col_allocating] in to_dole_out_totals[col_allocating].unique():\n",
    "            for race in column_list:\n",
    "                add_var = race+\"_add\"\n",
    "                rem_var = race+\"_rem\"\n",
    "                floor_var = race+\"_floor\"\n",
    "                #Grab the district\n",
    "                county_id = row[col_allocating]\n",
    "                if [county_id,race] in special_allocation_needed:\n",
    "                    #Get the denominator for the allocation - the summed \"total votes\" for precincts in that grouping\n",
    "                    denom = precinct_specific_totals.loc[precinct_specific_totals[col_allocating]==county_id][\"Total_Votes\"]\n",
    "                    #Get one of the numerators, how many districtwide votes to allocate\n",
    "                    numer = to_dole_out_totals.loc[to_dole_out_totals[col_allocating]==county_id][race]\n",
    "                    #Get the \"total votes\" for this particular precinct\n",
    "                    val = df_receiving_votes.at[index,\"Total_Votes\"]\n",
    "                    #Get the vote share, the precincts % of total precinct votes in the district times votes to allocate\n",
    "                else:\n",
    "                    #Get the denominator for the allocation (the precinct vote totals)\n",
    "                    denom = precinct_specific_totals.loc[precinct_specific_totals[col_allocating]==county_id][race]\n",
    "                    #Get one of the numerators, how many districtwide votes to allocate\n",
    "                    numer = to_dole_out_totals.loc[to_dole_out_totals[col_allocating]==county_id][race]\n",
    "                    #Get the vote totals for this race in this precinct\n",
    "                    val = df_receiving_votes.at[index,race]\n",
    "                    #Get the vote share, the precincts % of total precinct votes in the district times votes to allocate\n",
    "                if ((float(denom)==0)):\n",
    "                    vote_share = 0\n",
    "                else:\n",
    "                    vote_share = (float(val)/float(denom))*float(numer)\n",
    "                df_receiving_votes.at[index,add_var] = vote_share\n",
    "                #Take the decimal remainder of the allocation\n",
    "                df_receiving_votes.at[index,rem_var] = vote_share%1\n",
    "                #Take the floor of the allocation\n",
    "                df_receiving_votes.at[index,floor_var] = np.floor(vote_share)\n",
    "\n",
    "    #After the first pass through, get the sums of the races by district to assist in the rounding            \n",
    "    first_allocation = pd.DataFrame(df_receiving_votes.groupby([col_allocating]).sum())\n",
    "\n",
    "    #Now we want to iterate district by district to work on rounding\n",
    "    county_list = list(to_dole_out_totals[col_allocating].unique()) \n",
    "\n",
    "    #Iterate over the district\n",
    "    for county in county_list:\n",
    "        for race in column_list:\n",
    "            add_var = race+\"_add\"\n",
    "            rem_var = race+\"_rem\"\n",
    "            floor_var = race+\"_floor\"\n",
    "            #County how many votes still need to be allocated (because we took the floor of all the initial allocations)\n",
    "            to_go = int(np.round((int(to_dole_out_totals.loc[to_dole_out_totals[col_allocating]==county][race])-first_allocation.loc[first_allocation.index==county,floor_var])))\n",
    "            #Grab the n precincts with the highest remainders and round these up, where n is the # of votes that still need to be allocated\n",
    "            for index in df_receiving_votes.loc[df_receiving_votes[col_allocating]==county][rem_var].nlargest(to_go).index:\n",
    "                df_receiving_votes.at[index,add_var] = np.ceil(df_receiving_votes.at[index,add_var])\n",
    "\n",
    "    #Iterate over every race again\n",
    "    for race in column_list:\n",
    "        add_var = race+\"_add\"\n",
    "        #Round every allocation down to not add fractional votes\n",
    "        df_receiving_votes.loc[:,add_var]=np.floor(df_receiving_votes.loc[:,add_var])\n",
    "        df_receiving_votes.loc[:,race]+=df_receiving_votes.loc[:,add_var]\n",
    "        df_receiving_votes.loc[:,race] = df_receiving_votes.loc[:,race].astype(int)\n",
    "        \n",
    "    df_receiving_votes = df_receiving_votes[original_cols]\n",
    "    \n",
    "    return df_receiving_votes"
   ]
  },
  {
   "cell_type": "code",
   "execution_count": null,
   "metadata": {},
   "outputs": [],
   "source": [
    "# calling function and creating fields not in aggregate Absentee Precincts\n",
    "column_list = ['G20PRERTRU','G20PREDBID','G20PRELJOR','G20PREIWES','G20PREISIM','G20PREIPIE','G20USSRINH','G20USSDBRO','G20USSLMUR','G20USSIFAR','G20USSINES','G20COCRHIE','G20COCLHAG']\n",
    "absentee_votes = pivot_df[pivot_df[\"precinct\"].isin([559999,729999])]\n",
    "precinct_votes = pivot_df[~pivot_df[\"precinct\"].isin([559999,729999])]\n",
    "allocated_df = allocate_absentee(precinct_votes, absentee_votes, column_list,\"FIPS County\")"
   ]
  },
  {
   "cell_type": "markdown",
   "metadata": {},
   "source": [
    "## Join"
   ]
  },
  {
   "cell_type": "code",
   "execution_count": null,
   "metadata": {},
   "outputs": [],
   "source": [
    "#set to string and set leading zeroes then merge based on ID\n",
    "vest_shp[\"unique_ID\"] = vest_shp[\"PCT_CEB\"].astype(str)\n",
    "allocated_df[\"unique_ID\"] = allocated_df[\"precinct\"].astype(str)\n",
    "allocated_df['unique_ID'] = allocated_df['unique_ID'].astype(str).apply(lambda x:'{0:0>6}'.format(x))\n",
    "join_1 = pd.merge(allocated_df, vest_shp, how=\"outer\",on='unique_ID', indicator = True, validate=\"1:1\")\n",
    "join_1[\"_merge\"].value_counts()\n"
   ]
  },
  {
   "cell_type": "code",
   "execution_count": null,
   "metadata": {},
   "outputs": [],
   "source": [
    "#Checks individual precinct level\n",
    "def precinct_votes_check(merged_df,column_list,vest_on_left,name_col,print_level=0):\n",
    "    merged_df = merged_df.sort_values(by=[name_col],inplace=False)\n",
    "    matching_rows = 0\n",
    "    different_rows = 0\n",
    "    diff_list=[]\n",
    "    diff_values = []\n",
    "    max_diff = 0\n",
    "    for index,row in merged_df.iterrows():\n",
    "        same = True\n",
    "        for i in column_list:\n",
    "            left_data = i + \"_x\"\n",
    "            right_data = i + \"_y\"\n",
    "            if ((row[left_data] is None) or (row[right_data] is None) or (np.isnan(row[right_data])or(np.isnan(row[left_data])))):\n",
    "                print(\"FIX NaN value at: \", row[name_col])\n",
    "                return;\n",
    "            diff = abs(row[left_data]-row[right_data])\n",
    "            if (diff>0):\n",
    "                same = False\n",
    "                diff_values.append(abs(diff))\n",
    "                if (diff>max_diff):\n",
    "                    max_diff = diff\n",
    "            if(diff>print_level):\n",
    "                if (vest_on_left):\n",
    "                    print(i, \"{:.>72}\".format(row[name_col]), \"(V)\",\"{:.>5}\".format(int(row[left_data])),\" (S){:.>5}\".format(int(row[right_data])),\"(D):{:>5}\".format(int(row[left_data]-row[right_data])))                           \n",
    "                else:\n",
    "                    print(i, \"{:.>72}\".format(row[name_col]), \"(S)\",\"{:.>5}\".format(int(row[left_data])),\" (V){:.>5}\".format(int(row[right_data])),\"(D):{:>5}\".format(int(row[left_data]-row[right_data])))\n",
    "        if(same != True):\n",
    "            different_rows +=1\n",
    "            diff_list.append(row[name_col])\n",
    "        else:\n",
    "            matching_rows +=1\n",
    "    print(\"\")\n",
    "    print(\"There are \", len(merged_df.index),\" total rows\")\n",
    "    print(different_rows,\" of these rows have election result differences\")\n",
    "    print(matching_rows,\" of these rows are the same\")\n",
    "    print(\"\")\n",
    "    print(\"The max difference between any one shared column in a row is: \", max_diff)\n",
    "    if(len(diff_values)!=0):\n",
    "        print(\"The average difference is: \", str(sum(diff_values)/len(diff_values)))\n",
    "    count_big_diff = len([i for i in diff_values if i > 10])\n",
    "    print(\"There are \", str(count_big_diff), \"precinct results with a difference greater than 10\")\n",
    "    print(\"\")\n",
    "    print(\"All precincts containing differences:\")\n",
    "    diff_list.sort()\n",
    "    print(diff_list)"
   ]
  },
  {
   "cell_type": "code",
   "execution_count": null,
   "metadata": {},
   "outputs": [],
   "source": [
    "#vest_on_left = boolean logic which is TRUE if VEST/MGGG data is on left side of columns FALSE if VEST/MGGG data is on right\n",
    "#name_col literally the column header with the precinct names without a dataframe\n",
    "precinct_votes_check(join_1, column_list, False, 'precinct')"
   ]
  }
 ],
 "metadata": {
  "kernelspec": {
   "display_name": "Python 3",
   "language": "python",
   "name": "python3"
  },
  "language_info": {
   "codemirror_mode": {
    "name": "ipython",
    "version": 3
   },
   "file_extension": ".py",
   "mimetype": "text/x-python",
   "name": "python",
   "nbconvert_exporter": "python",
   "pygments_lexer": "ipython3",
   "version": "3.9.2"
  }
 },
 "nbformat": 4,
 "nbformat_minor": 4
}
